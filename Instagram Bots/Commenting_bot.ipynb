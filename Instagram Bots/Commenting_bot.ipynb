{
 "cells": [
  {
   "cell_type": "markdown",
   "metadata": {},
   "source": [
    "## STEP 1: WebDriver & Module Imports\n",
    "\n",
    "<b>Chrome Driver</b> : https://chromedriver.chromium.org/\n",
    "<br>\n",
    "<b>Firefox Driver</b> : https://github.com/mozilla/geckodriver/releases"
   ]
  },
  {
   "cell_type": "code",
   "execution_count": 36,
   "metadata": {},
   "outputs": [],
   "source": [
    "from selenium import webdriver\n",
    "from selenium.webdriver.common.keys import Keys\n",
    "from selenium.webdriver.support import expected_conditions as EC\n",
    "from selenium.webdriver.common.by import By\n",
    "from selenium.webdriver.support.wait import WebDriverWait\n",
    "import time \n",
    "import random "
   ]
  },
  {
   "cell_type": "markdown",
   "metadata": {},
   "source": [
    "## STEP 2: Create & Launch a Webdriver Object"
   ]
  },
  {
   "cell_type": "code",
   "execution_count": 37,
   "metadata": {},
   "outputs": [],
   "source": [
    "driver = webdriver.Chrome(\"C:/Users/goaim/chromedriver.exe\")\n",
    "driver.get(\"https://instagram.com\")"
   ]
  },
  {
   "cell_type": "markdown",
   "metadata": {},
   "source": [
    "## STEP 3: Log In"
   ]
  },
  {
   "cell_type": "code",
   "execution_count": 38,
   "metadata": {},
   "outputs": [],
   "source": [
    "time.sleep(5)\n",
    "username = WebDriverWait(driver, 10).until(EC.element_to_be_clickable((By.CSS_SELECTOR, \"input[name='username']\")))\n",
    "password = WebDriverWait(driver, 10).until(EC.element_to_be_clickable((By.CSS_SELECTOR, \"input[name='password']\")))\n",
    "\n",
    "username.send_keys(\"my_username\")\n",
    "password.send_keys(\"my_password\")\n",
    "\n",
    "submit = WebDriverWait(driver, 10).until(EC.element_to_be_clickable((By.CSS_SELECTOR, \"button[type='submit']\"))).click()"
   ]
  },
  {
   "cell_type": "markdown",
   "metadata": {},
   "source": [
    "## STEP 4: Handle Alerts"
   ]
  },
  {
   "cell_type": "code",
   "execution_count": 39,
   "metadata": {},
   "outputs": [],
   "source": [
    "time.sleep(5)\n",
    "alert = WebDriverWait(driver, 10).until(EC.element_to_be_clickable((By.XPATH, \"//button[contains(text(), 'Not Now')]\"))).click()\n",
    "alert = WebDriverWait(driver, 10).until(EC.element_to_be_clickable((By.XPATH, \"//button[contains(text(), 'Not Now')]\"))).click()"
   ]
  },
  {
   "cell_type": "markdown",
   "metadata": {},
   "source": [
    "## STEP 5: Select Hashtag"
   ]
  },
  {
   "cell_type": "code",
   "execution_count": 42,
   "metadata": {},
   "outputs": [],
   "source": [
    "hashtag = \"fashion\"\n",
    "driver.get(\"https://www.instagram.com/explore/tags/\" + hashtag + \"/\")\n",
    "time.sleep(5)"
   ]
  },
  {
   "cell_type": "markdown",
   "metadata": {},
   "source": [
    "## STEP 6: Scroll Multiple Times"
   ]
  },
  {
   "cell_type": "code",
   "execution_count": 43,
   "metadata": {},
   "outputs": [],
   "source": [
    "n_scrolls = 3\n",
    "for i in range(1, n_scrolls):\n",
    "    driver.execute_script(\"window.scrollTo(0, document.body.scrollHeight);\")\n",
    "    time.sleep(5)"
   ]
  },
  {
   "cell_type": "markdown",
   "metadata": {},
   "source": [
    "## STEP 7: Target Links to Images "
   ]
  },
  {
   "cell_type": "code",
   "execution_count": 44,
   "metadata": {},
   "outputs": [
    {
     "data": {
      "text/plain": [
       "['https://www.instagram.com/p/CKuomiYJ4yp/',\n",
       " 'https://www.instagram.com/p/CKuoXhDAPZc/',\n",
       " 'https://www.instagram.com/p/CKuh7osBO-q/']"
      ]
     },
     "execution_count": 44,
     "metadata": {},
     "output_type": "execute_result"
    }
   ],
   "source": [
    "anchors = driver.find_elements_by_tag_name(\"a\")\n",
    "anchors = [a.get_attribute(\"href\") for a in anchors]\n",
    "anchors = [a for a in anchors if a.startswith(\"https://www.instagram.com/p/\")]\n",
    "\n",
    "anchors[:3]"
   ]
  },
  {
   "cell_type": "markdown",
   "metadata": {},
   "source": [
    "## STEP 8: Loop over photos and comment"
   ]
  },
  {
   "cell_type": "code",
   "execution_count": 45,
   "metadata": {},
   "outputs": [
    {
     "name": "stdout",
     "output_type": "stream",
     "text": [
      "I've waited for 1seconds\n",
      "I've waited for 5seconds\n",
      "I've waited for 6seconds\n"
     ]
    }
   ],
   "source": [
    "data = anchors[:3]\n",
    "greeting = [\"Hi\", \"Hello\", \"Hey\", \"Heeey\", \"Greetings\"]\n",
    "\n",
    "for a in data:\n",
    "    driver.get(a)\n",
    "    time.sleep(5)\n",
    "\n",
    "    random_idx = random.randint(0, (len(greeting)-1))\n",
    "    my_comment = greeting[random_idx] + \" I saw your photos - they are beautiful! wanna collab??\"\n",
    "    \n",
    "    form = driver.find_element_by_tag_name(\"form\").click()\n",
    "    text_area = driver.find_element_by_tag_name(\"textarea\")\n",
    "    text_area.send_keys(my_comment)\n",
    "    submit = WebDriverWait(driver, 10).until(EC.element_to_be_clickable((By.CSS_SELECTOR, \"button[type='submit']\"))).click()\n",
    "    \n",
    "    seconds = random.randint(1,10)\n",
    "    time.sleep(seconds)\n",
    "    print(\"I've waited for \" + str(seconds) + \"seconds\")   \n",
    "    "
   ]
  }
 ],
 "metadata": {
  "kernelspec": {
   "display_name": "Python 3",
   "language": "python",
   "name": "python3"
  },
  "language_info": {
   "codemirror_mode": {
    "name": "ipython",
    "version": 3
   },
   "file_extension": ".py",
   "mimetype": "text/x-python",
   "name": "python",
   "nbconvert_exporter": "python",
   "pygments_lexer": "ipython3",
   "version": "3.8.5"
  }
 },
 "nbformat": 4,
 "nbformat_minor": 4
}
