{
 "cells": [
  {
   "cell_type": "markdown",
   "metadata": {
    "id": "kvi6cAEHY5sh"
   },
   "source": [
    "# Installation"
   ]
  },
  {
   "cell_type": "code",
   "execution_count": null,
   "metadata": {
    "colab": {
     "base_uri": "https://localhost:8080/"
    },
    "id": "ZsJUxc0aRsAf",
    "outputId": "29eb71fb-e703-4af4-9004-6621d502fdc9"
   },
   "outputs": [
    {
     "name": "stdout",
     "output_type": "stream",
     "text": [
      "\u001b[K     |████████████████████████████████| 5.8 MB 15.3 MB/s \n",
      "\u001b[K     |████████████████████████████████| 7.6 MB 65.1 MB/s \n",
      "\u001b[K     |████████████████████████████████| 182 kB 76.9 MB/s \n",
      "\u001b[?25h  Building wheel for whisper (setup.py) ... \u001b[?25l\u001b[?25hdone\n",
      "\u001b[K     |████████████████████████████████| 11.6 MB 12.6 MB/s \n",
      "\u001b[K     |████████████████████████████████| 55 kB 4.7 MB/s \n",
      "\u001b[K     |████████████████████████████████| 2.3 MB 62.8 MB/s \n",
      "\u001b[K     |████████████████████████████████| 84 kB 3.8 MB/s \n",
      "\u001b[K     |████████████████████████████████| 84 kB 3.9 MB/s \n",
      "\u001b[K     |████████████████████████████████| 278 kB 76.2 MB/s \n",
      "\u001b[K     |████████████████████████████████| 106 kB 71.6 MB/s \n",
      "\u001b[K     |████████████████████████████████| 213 kB 55.8 MB/s \n",
      "\u001b[K     |████████████████████████████████| 56 kB 5.6 MB/s \n",
      "\u001b[K     |████████████████████████████████| 54 kB 3.0 MB/s \n",
      "\u001b[K     |████████████████████████████████| 64 kB 3.5 MB/s \n",
      "\u001b[K     |████████████████████████████████| 80 kB 12.0 MB/s \n",
      "\u001b[K     |████████████████████████████████| 68 kB 8.4 MB/s \n",
      "\u001b[K     |████████████████████████████████| 68 kB 8.3 MB/s \n",
      "\u001b[K     |████████████████████████████████| 68 kB 8.6 MB/s \n",
      "\u001b[K     |████████████████████████████████| 68 kB 8.6 MB/s \n",
      "\u001b[K     |████████████████████████████████| 50 kB 8.5 MB/s \n",
      "\u001b[K     |████████████████████████████████| 856 kB 76.9 MB/s \n",
      "\u001b[K     |████████████████████████████████| 593 kB 72.7 MB/s \n",
      "\u001b[K     |████████████████████████████████| 4.0 MB 66.1 MB/s \n",
      "\u001b[?25h  Building wheel for ffmpy (setup.py) ... \u001b[?25l\u001b[?25hdone\n",
      "  Building wheel for python-multipart (setup.py) ... \u001b[?25l\u001b[?25hdone\n",
      "  Building wheel for uuid (setup.py) ... \u001b[?25l\u001b[?25hdone\n"
     ]
    }
   ],
   "source": [
    "!pip install -q git+https://github.com/openai/whisper.git\n",
    "!pip install -q gradio\n",
    "!pip install -q pyChatGPT"
   ]
  },
  {
   "cell_type": "markdown",
   "metadata": {
    "id": "usUSep_lY7q8"
   },
   "source": [
    "# Imports"
   ]
  },
  {
   "cell_type": "code",
   "execution_count": null,
   "metadata": {
    "id": "Kr5faKybKi4p"
   },
   "outputs": [],
   "source": [
    "import whisper\n",
    "import gradio as gr \n",
    "import time\n",
    "from pyChatGPT import ChatGPT\n",
    "import warnings"
   ]
  },
  {
   "cell_type": "markdown",
   "metadata": {
    "id": "EyW6weauY9gf"
   },
   "source": [
    "# Defining Variables"
   ]
  },
  {
   "cell_type": "code",
   "execution_count": null,
   "metadata": {
    "id": "u_6_s2iHboR4"
   },
   "outputs": [],
   "source": [
    "warnings.filterwarnings(\"ignore\")"
   ]
  },
  {
   "cell_type": "code",
   "execution_count": null,
   "metadata": {
    "id": "HP2ovD3xaDfC"
   },
   "outputs": [],
   "source": [
    "secret_token = \"\" # Enter your session token here!"
   ]
  },
  {
   "cell_type": "code",
   "execution_count": null,
   "metadata": {
    "colab": {
     "base_uri": "https://localhost:8080/"
    },
    "id": "cMNnv3oHaDt8",
    "outputId": "c5ae5c6d-163d-4d28-a483-8f0035760098"
   },
   "outputs": [
    {
     "name": "stderr",
     "output_type": "stream",
     "text": [
      "100%|███████████████████████████████████████| 139M/139M [00:06<00:00, 23.7MiB/s]\n"
     ]
    }
   ],
   "source": [
    "model = whisper.load_model(\"base\")"
   ]
  },
  {
   "cell_type": "code",
   "execution_count": null,
   "metadata": {
    "colab": {
     "base_uri": "https://localhost:8080/"
    },
    "id": "e3bjy1E3R-MN",
    "outputId": "d396d1df-bdc5-4e62-abf7-3f57be3154de"
   },
   "outputs": [
    {
     "data": {
      "text/plain": [
       "device(type='cuda', index=0)"
      ]
     },
     "execution_count": 6,
     "metadata": {},
     "output_type": "execute_result"
    }
   ],
   "source": [
    "model.device"
   ]
  },
  {
   "cell_type": "markdown",
   "metadata": {
    "id": "14CPZJMxY_Ks"
   },
   "source": [
    "# Transcribe Function"
   ]
  },
  {
   "cell_type": "code",
   "execution_count": null,
   "metadata": {
    "id": "JtTvvQQPcOZZ"
   },
   "outputs": [],
   "source": [
    "def transcribe(audio):\n",
    "\n",
    "    # load audio and pad/trim it to fit 30 seconds\n",
    "    audio = whisper.load_audio(audio)\n",
    "    audio = whisper.pad_or_trim(audio)\n",
    "\n",
    "    # make log-Mel spectrogram and move to the same device as the model\n",
    "    mel = whisper.log_mel_spectrogram(audio).to(model.device)\n",
    "\n",
    "    # detect the spoken language\n",
    "    _, probs = model.detect_language(mel)\n",
    "\n",
    "    # decode the audio\n",
    "    options = whisper.DecodingOptions()\n",
    "    result = whisper.decode(model, mel, options)\n",
    "    result_text = result.text\n",
    "\n",
    "    # Pass the generated text to Audio\n",
    "    chatgpt_api = ChatGPT(secret_token)\n",
    "    resp = chatgpt_api.send_message(result_text)\n",
    "    out_result = resp['message']\n",
    "\n",
    "    return [result_text, out_result]"
   ]
  },
  {
   "cell_type": "code",
   "execution_count": null,
   "metadata": {
    "id": "8Yn912jvfiz-"
   },
   "outputs": [],
   "source": []
  },
  {
   "cell_type": "markdown",
   "metadata": {
    "id": "aJaFmE9aZB_8"
   },
   "source": [
    "# Gradio Interface"
   ]
  },
  {
   "cell_type": "code",
   "execution_count": null,
   "metadata": {
    "colab": {
     "base_uri": "https://localhost:8080/",
     "height": 633
    },
    "id": "deSAVvfJcWBo",
    "outputId": "4fb3e1dd-0a3e-4554-ba35-2a8e8543d376"
   },
   "outputs": [
    {
     "name": "stdout",
     "output_type": "stream",
     "text": [
      "Hint: Set streaming=True for Audio component to use live streaming.\n",
      "Colab notebook detected. To show errors in colab notebook, set `debug=True` in `launch()`\n",
      "Note: opening Chrome Inspector may crash demo inside Colab notebooks.\n",
      "\n",
      "To create a public link, set `share=True` in `launch()`.\n"
     ]
    },
    {
     "data": {
      "application/javascript": [
       "(async (port, path, width, height, cache, element) => {\n",
       "                        if (!google.colab.kernel.accessAllowed && !cache) {\n",
       "                            return;\n",
       "                        }\n",
       "                        element.appendChild(document.createTextNode(''));\n",
       "                        const url = await google.colab.kernel.proxyPort(port, {cache});\n",
       "\n",
       "                        const external_link = document.createElement('div');\n",
       "                        external_link.innerHTML = `\n",
       "                            <div style=\"font-family: monospace; margin-bottom: 0.5rem\">\n",
       "                                Running on <a href=${new URL(path, url).toString()} target=\"_blank\">\n",
       "                                    https://localhost:${port}${path}\n",
       "                                </a>\n",
       "                            </div>\n",
       "                        `;\n",
       "                        element.appendChild(external_link);\n",
       "\n",
       "                        const iframe = document.createElement('iframe');\n",
       "                        iframe.src = new URL(path, url).toString();\n",
       "                        iframe.height = height;\n",
       "                        iframe.allow = \"autoplay; camera; microphone; clipboard-read; clipboard-write;\"\n",
       "                        iframe.width = width;\n",
       "                        iframe.style.border = 0;\n",
       "                        element.appendChild(iframe);\n",
       "                    })(7860, \"/\", \"100%\", 500, false, window.element)"
      ],
      "text/plain": [
       "<IPython.core.display.Javascript object>"
      ]
     },
     "metadata": {},
     "output_type": "display_data"
    },
    {
     "data": {
      "text/plain": []
     },
     "execution_count": 8,
     "metadata": {},
     "output_type": "execute_result"
    }
   ],
   "source": [
    "output_1 = gr.Textbox(label=\"Speech to Text\")\n",
    "output_2 = gr.Textbox(label=\"ChatGPT Output\")\n",
    "\n",
    "\n",
    "gr.Interface(\n",
    "    title = 'OpenAI Whisper and ChatGPT ASR Gradio Web UI', \n",
    "    fn=transcribe, \n",
    "    inputs=[\n",
    "        gr.inputs.Audio(source=\"microphone\", type=\"filepath\")\n",
    "    ],\n",
    "\n",
    "    outputs=[\n",
    "        output_1,  output_2\n",
    "    ],\n",
    "    live=True).launch()"
   ]
  },
  {
   "cell_type": "code",
   "execution_count": null,
   "metadata": {
    "id": "y2Zid2MKdPxK"
   },
   "outputs": [],
   "source": []
  }
 ],
 "metadata": {
  "accelerator": "GPU",
  "colab": {
   "collapsed_sections": [
    "kvi6cAEHY5sh",
    "usUSep_lY7q8",
    "14CPZJMxY_Ks",
    "aJaFmE9aZB_8"
   ],
   "provenance": []
  },
  "gpuClass": "standard",
  "kernelspec": {
   "display_name": "Python 3 (ipykernel)",
   "language": "python",
   "name": "python3"
  },
  "language_info": {
   "codemirror_mode": {
    "name": "ipython",
    "version": 3
   },
   "file_extension": ".py",
   "mimetype": "text/x-python",
   "name": "python",
   "nbconvert_exporter": "python",
   "pygments_lexer": "ipython3",
   "version": "3.10.6"
  },
  "toc": {
   "base_numbering": 1,
   "nav_menu": {},
   "number_sections": true,
   "sideBar": true,
   "skip_h1_title": false,
   "title_cell": "Table of Contents",
   "title_sidebar": "Contents",
   "toc_cell": false,
   "toc_position": {},
   "toc_section_display": true,
   "toc_window_display": false
  },
  "varInspector": {
   "cols": {
    "lenName": 16,
    "lenType": 16,
    "lenVar": 40
   },
   "kernels_config": {
    "python": {
     "delete_cmd_postfix": "",
     "delete_cmd_prefix": "del ",
     "library": "var_list.py",
     "varRefreshCmd": "print(var_dic_list())"
    },
    "r": {
     "delete_cmd_postfix": ") ",
     "delete_cmd_prefix": "rm(",
     "library": "var_list.r",
     "varRefreshCmd": "cat(var_dic_list()) "
    }
   },
   "types_to_exclude": [
    "module",
    "function",
    "builtin_function_or_method",
    "instance",
    "_Feature"
   ],
   "window_display": false
  }
 },
 "nbformat": 4,
 "nbformat_minor": 1
}
